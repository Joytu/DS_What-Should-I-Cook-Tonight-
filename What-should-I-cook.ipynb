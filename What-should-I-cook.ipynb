{
  "cells": [
    {
      "cell_type": "code",
      "execution_count": null,
      "metadata": {
        "colab": {
          "base_uri": "https://localhost:8080/"
        },
        "id": "VJMC8aX363ik",
        "outputId": "bb468f6f-9841-4343-e166-a2f8444f5b1a"
      },
      "outputs": [
        {
          "name": "stdout",
          "output_type": "stream",
          "text": [
            "Requirement already satisfied: requests in /usr/local/lib/python3.10/dist-packages (2.32.3)\n",
            "Requirement already satisfied: beautifulsoup4 in /usr/local/lib/python3.10/dist-packages (4.12.3)\n",
            "Requirement already satisfied: pandas in /usr/local/lib/python3.10/dist-packages (2.1.4)\n",
            "Requirement already satisfied: charset-normalizer<4,>=2 in /usr/local/lib/python3.10/dist-packages (from requests) (3.3.2)\n",
            "Requirement already satisfied: idna<4,>=2.5 in /usr/local/lib/python3.10/dist-packages (from requests) (3.10)\n",
            "Requirement already satisfied: urllib3<3,>=1.21.1 in /usr/local/lib/python3.10/dist-packages (from requests) (2.2.3)\n",
            "Requirement already satisfied: certifi>=2017.4.17 in /usr/local/lib/python3.10/dist-packages (from requests) (2024.8.30)\n",
            "Requirement already satisfied: soupsieve>1.2 in /usr/local/lib/python3.10/dist-packages (from beautifulsoup4) (2.6)\n",
            "Requirement already satisfied: numpy<2,>=1.22.4 in /usr/local/lib/python3.10/dist-packages (from pandas) (1.26.4)\n",
            "Requirement already satisfied: python-dateutil>=2.8.2 in /usr/local/lib/python3.10/dist-packages (from pandas) (2.8.2)\n",
            "Requirement already satisfied: pytz>=2020.1 in /usr/local/lib/python3.10/dist-packages (from pandas) (2024.2)\n",
            "Requirement already satisfied: tzdata>=2022.1 in /usr/local/lib/python3.10/dist-packages (from pandas) (2024.1)\n",
            "Requirement already satisfied: six>=1.5 in /usr/local/lib/python3.10/dist-packages (from python-dateutil>=2.8.2->pandas) (1.16.0)\n"
          ]
        }
      ],
      "source": [
        "pip install requests beautifulsoup4 pandas"
      ]
    },
    {
      "cell_type": "code",
      "execution_count": 1,
      "metadata": {
        "id": "DR5zSXl264UI"
      },
      "outputs": [],
      "source": [
        "import requests\n",
        "from bs4 import BeautifulSoup\n",
        "import pandas as pd\n",
        "import time"
      ]
    },
    {
      "cell_type": "code",
      "source": [
        "base_url = \"https://www.skinnytaste.com/recipe-index/?_paged=\"\n",
        "recipe_url = []\n",
        "image_url = []\n",
        "\n",
        "\n",
        "for page in range(1, 51):\n",
        "    url = f\"{base_url}{page}/\"\n",
        "    response = requests.get(url)\n",
        "    soup = BeautifulSoup(response.content, 'html.parser')\n",
        "\n",
        "    recipes = soup.find_all('h2', class_='entry-title')\n",
        "    for recipe in recipes:\n",
        "      url = recipe.find('a')['href']\n",
        "      recipe_url.append(url)\n",
        "\n",
        "    time.sleep(1)\n",
        "    images = soup.find_all('div', class_='post-thumb-img-content post-thumb')\n",
        "    for image in images:\n",
        "      image = image.find('img', class_='attachment-teaser size-teaser wp-post-image')['src']\n",
        "      image_url.append(image)\n",
        "\n",
        "    time.sleep(1)\n",
        "\n",
        "\n",
        "print(f\"Total recipes found: {len(recipe_url)}\")\n",
        "print(f\"Total images found: {len(image_url)}\")"
      ],
      "metadata": {
        "colab": {
          "base_uri": "https://localhost:8080/"
        },
        "id": "4FAUu8XhzH9X",
        "outputId": "12d003e0-3a8e-4283-94b0-95eb9c1e1d6e"
      },
      "execution_count": 5,
      "outputs": [
        {
          "output_type": "stream",
          "name": "stdout",
          "text": [
            "Total recipes found: 1000\n",
            "Total images found: 1000\n"
          ]
        }
      ]
    },
    {
      "cell_type": "code",
      "execution_count": 8,
      "metadata": {
        "colab": {
          "base_uri": "https://localhost:8080/"
        },
        "id": "-NAJ7tpbGhEh",
        "outputId": "2840c2fe-8210-4403-d8b9-334c315ad9d9"
      },
      "outputs": [
        {
          "output_type": "stream",
          "name": "stdout",
          "text": [
            "Conversion complete!\n"
          ]
        }
      ],
      "source": [
        "from urllib.parse import urlparse, parse_qs\n",
        "from collections import defaultdict\n",
        "\n",
        "recipe_box = []\n",
        "\n",
        "#Finding more data of the recipes\n",
        "for url,image in zip(recipe_url, image_url):\n",
        "\n",
        "    response = requests.get(url)\n",
        "    soup = BeautifulSoup(response.content, 'html.parser')\n",
        "\n",
        "    try:\n",
        "      name = soup.find('h1', class_='entry-title').text\n",
        "      summary = soup.find('p').text.strip()\n",
        "      calorie_finder = soup.find('span', class_='recipe-meta-value value-calories')\n",
        "      calories = calorie_finder.text.strip() if calorie_finder else 'Null'\n",
        "\n",
        "      recipe_points_finder = soup.find('span', class_='recipe-meta-value recipe-ww-pp icon')\n",
        "      recipe_points = recipe_points_finder.text.strip() if recipe_points_finder else 'Null'\n",
        "\n",
        "      recipe_key_finder = soup.find('ul', class_='cat-icons post-icons')\n",
        "      if recipe_key_finder:\n",
        "            recipe_key = ' '.join([element.text.strip() for element in recipe_key_finder.find_all('a')])\n",
        "      else:\n",
        "        recipe_key = 'Null'\n",
        "\n",
        "      recipe_box.append({\n",
        "            'Name': name,\n",
        "            'Image': image,\n",
        "            'Calories': calories,\n",
        "            'Personal Points': recipe_points,\n",
        "            'Summary': summary,\n",
        "            'Recipe Key': recipe_key,\n",
        "        })\n",
        "\n",
        "    except Exception as e:\n",
        "      print(f\"Error occurred for {url}: {e}\")\n",
        "\n",
        "    time.sleep(1)\n",
        "\n",
        "# Converting to DataFrame\n",
        "df = pd.DataFrame(recipe_box)\n",
        "df.to_csv('skinnytaste_extract.csv', index=False)\n",
        "print(\"Conversion complete!\")"
      ]
    },
    {
      "cell_type": "code",
      "execution_count": 9,
      "metadata": {
        "colab": {
          "base_uri": "https://localhost:8080/",
          "height": 363
        },
        "id": "yf3Yh9kIQCRc",
        "outputId": "63d8998b-2ca3-4a19-8b8f-8811663967fc"
      },
      "outputs": [
        {
          "output_type": "execute_result",
          "data": {
            "text/plain": [
              "                                           Name  \\\n",
              "0  Free 7 Day Healthy Meal Plan (Sept 30-Oct 6)   \n",
              "1                            Breakfast Burritos   \n",
              "2                         Crustless Pumpkin Pie   \n",
              "3                              Red Curry Salmon   \n",
              "4                                  Apple Butter   \n",
              "5                       Roasted Delicata Squash   \n",
              "6                                   Apple Bread   \n",
              "7        Autumn Salad with Pears and Gorgonzola   \n",
              "8                                Sesame Chicken   \n",
              "9                             Bacon in the Oven   \n",
              "\n",
              "                                               Image     Calories  \\\n",
              "0  https://www.skinnytaste.com/wp-content/uploads...         Null   \n",
              "1  https://www.skinnytaste.com/wp-content/uploads...    Cals: 261   \n",
              "2  https://www.skinnytaste.com/wp-content/uploads...  Cals: 124.5   \n",
              "3  https://www.skinnytaste.com/wp-content/uploads...    Cals: 349   \n",
              "4  https://www.skinnytaste.com/wp-content/uploads...     Cals: 34   \n",
              "5  https://www.skinnytaste.com/wp-content/uploads...    Cals: 177   \n",
              "6  https://www.skinnytaste.com/wp-content/uploads...    Cals: 124   \n",
              "7  https://www.skinnytaste.com/wp-content/uploads...    Cals: 175   \n",
              "8  https://www.skinnytaste.com/wp-content/uploads...    Cals: 513   \n",
              "9  https://www.skinnytaste.com/wp-content/uploads...     Cals: 60   \n",
              "\n",
              "  Personal Points                                            Summary  \\\n",
              "0            Null  A free 7-day, flexible weight loss meal plan i...   \n",
              "1               5  These freezer breakfast burritos are stuffed w...   \n",
              "2               2  Skip the crust and make this easy gluten-free,...   \n",
              "3               6  Thai-inspired Red Curry Salmon is simmered in ...   \n",
              "4               1  This easy apple butter recipe simmers on the s...   \n",
              "5               4  Roasted Delicata Squash with toasted almonds, ...   \n",
              "6               4  Moist cinnamon apple bread recipe made with ap...   \n",
              "7               5  I love a good salad with lots of texture and f...   \n",
              "8               9  This lighter Sesame Chicken recipe features ch...   \n",
              "9               2  Whether you’re a fan of tender, crisp, or extr...   \n",
              "\n",
              "           Recipe Key  \n",
              "0                Null  \n",
              "1    AF FM HF KF MP Q  \n",
              "2          DF GF HF V  \n",
              "3            DF GF HP  \n",
              "4          DF GF KF V  \n",
              "5             DF GF V  \n",
              "6                   V  \n",
              "7           GF LC Q V  \n",
              "8         DF FM GF HP  \n",
              "9  DF GF HP KF LC Q W  "
            ],
            "text/html": [
              "\n",
              "  <div id=\"df-35f3eb4e-5521-4938-9a6a-78020e9e67bd\" class=\"colab-df-container\">\n",
              "    <div>\n",
              "<style scoped>\n",
              "    .dataframe tbody tr th:only-of-type {\n",
              "        vertical-align: middle;\n",
              "    }\n",
              "\n",
              "    .dataframe tbody tr th {\n",
              "        vertical-align: top;\n",
              "    }\n",
              "\n",
              "    .dataframe thead th {\n",
              "        text-align: right;\n",
              "    }\n",
              "</style>\n",
              "<table border=\"1\" class=\"dataframe\">\n",
              "  <thead>\n",
              "    <tr style=\"text-align: right;\">\n",
              "      <th></th>\n",
              "      <th>Name</th>\n",
              "      <th>Image</th>\n",
              "      <th>Calories</th>\n",
              "      <th>Personal Points</th>\n",
              "      <th>Summary</th>\n",
              "      <th>Recipe Key</th>\n",
              "    </tr>\n",
              "  </thead>\n",
              "  <tbody>\n",
              "    <tr>\n",
              "      <th>0</th>\n",
              "      <td>Free 7 Day Healthy Meal Plan (Sept 30-Oct 6)</td>\n",
              "      <td>https://www.skinnytaste.com/wp-content/uploads...</td>\n",
              "      <td>Null</td>\n",
              "      <td>Null</td>\n",
              "      <td>A free 7-day, flexible weight loss meal plan i...</td>\n",
              "      <td>Null</td>\n",
              "    </tr>\n",
              "    <tr>\n",
              "      <th>1</th>\n",
              "      <td>Breakfast Burritos</td>\n",
              "      <td>https://www.skinnytaste.com/wp-content/uploads...</td>\n",
              "      <td>Cals: 261</td>\n",
              "      <td>5</td>\n",
              "      <td>These freezer breakfast burritos are stuffed w...</td>\n",
              "      <td>AF FM HF KF MP Q</td>\n",
              "    </tr>\n",
              "    <tr>\n",
              "      <th>2</th>\n",
              "      <td>Crustless Pumpkin Pie</td>\n",
              "      <td>https://www.skinnytaste.com/wp-content/uploads...</td>\n",
              "      <td>Cals: 124.5</td>\n",
              "      <td>2</td>\n",
              "      <td>Skip the crust and make this easy gluten-free,...</td>\n",
              "      <td>DF GF HF V</td>\n",
              "    </tr>\n",
              "    <tr>\n",
              "      <th>3</th>\n",
              "      <td>Red Curry Salmon</td>\n",
              "      <td>https://www.skinnytaste.com/wp-content/uploads...</td>\n",
              "      <td>Cals: 349</td>\n",
              "      <td>6</td>\n",
              "      <td>Thai-inspired Red Curry Salmon is simmered in ...</td>\n",
              "      <td>DF GF HP</td>\n",
              "    </tr>\n",
              "    <tr>\n",
              "      <th>4</th>\n",
              "      <td>Apple Butter</td>\n",
              "      <td>https://www.skinnytaste.com/wp-content/uploads...</td>\n",
              "      <td>Cals: 34</td>\n",
              "      <td>1</td>\n",
              "      <td>This easy apple butter recipe simmers on the s...</td>\n",
              "      <td>DF GF KF V</td>\n",
              "    </tr>\n",
              "    <tr>\n",
              "      <th>5</th>\n",
              "      <td>Roasted Delicata Squash</td>\n",
              "      <td>https://www.skinnytaste.com/wp-content/uploads...</td>\n",
              "      <td>Cals: 177</td>\n",
              "      <td>4</td>\n",
              "      <td>Roasted Delicata Squash with toasted almonds, ...</td>\n",
              "      <td>DF GF V</td>\n",
              "    </tr>\n",
              "    <tr>\n",
              "      <th>6</th>\n",
              "      <td>Apple Bread</td>\n",
              "      <td>https://www.skinnytaste.com/wp-content/uploads...</td>\n",
              "      <td>Cals: 124</td>\n",
              "      <td>4</td>\n",
              "      <td>Moist cinnamon apple bread recipe made with ap...</td>\n",
              "      <td>V</td>\n",
              "    </tr>\n",
              "    <tr>\n",
              "      <th>7</th>\n",
              "      <td>Autumn Salad with Pears and Gorgonzola</td>\n",
              "      <td>https://www.skinnytaste.com/wp-content/uploads...</td>\n",
              "      <td>Cals: 175</td>\n",
              "      <td>5</td>\n",
              "      <td>I love a good salad with lots of texture and f...</td>\n",
              "      <td>GF LC Q V</td>\n",
              "    </tr>\n",
              "    <tr>\n",
              "      <th>8</th>\n",
              "      <td>Sesame Chicken</td>\n",
              "      <td>https://www.skinnytaste.com/wp-content/uploads...</td>\n",
              "      <td>Cals: 513</td>\n",
              "      <td>9</td>\n",
              "      <td>This lighter Sesame Chicken recipe features ch...</td>\n",
              "      <td>DF FM GF HP</td>\n",
              "    </tr>\n",
              "    <tr>\n",
              "      <th>9</th>\n",
              "      <td>Bacon in the Oven</td>\n",
              "      <td>https://www.skinnytaste.com/wp-content/uploads...</td>\n",
              "      <td>Cals: 60</td>\n",
              "      <td>2</td>\n",
              "      <td>Whether you’re a fan of tender, crisp, or extr...</td>\n",
              "      <td>DF GF HP KF LC Q W</td>\n",
              "    </tr>\n",
              "  </tbody>\n",
              "</table>\n",
              "</div>\n",
              "    <div class=\"colab-df-buttons\">\n",
              "\n",
              "  <div class=\"colab-df-container\">\n",
              "    <button class=\"colab-df-convert\" onclick=\"convertToInteractive('df-35f3eb4e-5521-4938-9a6a-78020e9e67bd')\"\n",
              "            title=\"Convert this dataframe to an interactive table.\"\n",
              "            style=\"display:none;\">\n",
              "\n",
              "  <svg xmlns=\"http://www.w3.org/2000/svg\" height=\"24px\" viewBox=\"0 -960 960 960\">\n",
              "    <path d=\"M120-120v-720h720v720H120Zm60-500h600v-160H180v160Zm220 220h160v-160H400v160Zm0 220h160v-160H400v160ZM180-400h160v-160H180v160Zm440 0h160v-160H620v160ZM180-180h160v-160H180v160Zm440 0h160v-160H620v160Z\"/>\n",
              "  </svg>\n",
              "    </button>\n",
              "\n",
              "  <style>\n",
              "    .colab-df-container {\n",
              "      display:flex;\n",
              "      gap: 12px;\n",
              "    }\n",
              "\n",
              "    .colab-df-convert {\n",
              "      background-color: #E8F0FE;\n",
              "      border: none;\n",
              "      border-radius: 50%;\n",
              "      cursor: pointer;\n",
              "      display: none;\n",
              "      fill: #1967D2;\n",
              "      height: 32px;\n",
              "      padding: 0 0 0 0;\n",
              "      width: 32px;\n",
              "    }\n",
              "\n",
              "    .colab-df-convert:hover {\n",
              "      background-color: #E2EBFA;\n",
              "      box-shadow: 0px 1px 2px rgba(60, 64, 67, 0.3), 0px 1px 3px 1px rgba(60, 64, 67, 0.15);\n",
              "      fill: #174EA6;\n",
              "    }\n",
              "\n",
              "    .colab-df-buttons div {\n",
              "      margin-bottom: 4px;\n",
              "    }\n",
              "\n",
              "    [theme=dark] .colab-df-convert {\n",
              "      background-color: #3B4455;\n",
              "      fill: #D2E3FC;\n",
              "    }\n",
              "\n",
              "    [theme=dark] .colab-df-convert:hover {\n",
              "      background-color: #434B5C;\n",
              "      box-shadow: 0px 1px 3px 1px rgba(0, 0, 0, 0.15);\n",
              "      filter: drop-shadow(0px 1px 2px rgba(0, 0, 0, 0.3));\n",
              "      fill: #FFFFFF;\n",
              "    }\n",
              "  </style>\n",
              "\n",
              "    <script>\n",
              "      const buttonEl =\n",
              "        document.querySelector('#df-35f3eb4e-5521-4938-9a6a-78020e9e67bd button.colab-df-convert');\n",
              "      buttonEl.style.display =\n",
              "        google.colab.kernel.accessAllowed ? 'block' : 'none';\n",
              "\n",
              "      async function convertToInteractive(key) {\n",
              "        const element = document.querySelector('#df-35f3eb4e-5521-4938-9a6a-78020e9e67bd');\n",
              "        const dataTable =\n",
              "          await google.colab.kernel.invokeFunction('convertToInteractive',\n",
              "                                                    [key], {});\n",
              "        if (!dataTable) return;\n",
              "\n",
              "        const docLinkHtml = 'Like what you see? Visit the ' +\n",
              "          '<a target=\"_blank\" href=https://colab.research.google.com/notebooks/data_table.ipynb>data table notebook</a>'\n",
              "          + ' to learn more about interactive tables.';\n",
              "        element.innerHTML = '';\n",
              "        dataTable['output_type'] = 'display_data';\n",
              "        await google.colab.output.renderOutput(dataTable, element);\n",
              "        const docLink = document.createElement('div');\n",
              "        docLink.innerHTML = docLinkHtml;\n",
              "        element.appendChild(docLink);\n",
              "      }\n",
              "    </script>\n",
              "  </div>\n",
              "\n",
              "\n",
              "<div id=\"df-3d5a6572-0dd1-4bf0-ae08-24887f2b5622\">\n",
              "  <button class=\"colab-df-quickchart\" onclick=\"quickchart('df-3d5a6572-0dd1-4bf0-ae08-24887f2b5622')\"\n",
              "            title=\"Suggest charts\"\n",
              "            style=\"display:none;\">\n",
              "\n",
              "<svg xmlns=\"http://www.w3.org/2000/svg\" height=\"24px\"viewBox=\"0 0 24 24\"\n",
              "     width=\"24px\">\n",
              "    <g>\n",
              "        <path d=\"M19 3H5c-1.1 0-2 .9-2 2v14c0 1.1.9 2 2 2h14c1.1 0 2-.9 2-2V5c0-1.1-.9-2-2-2zM9 17H7v-7h2v7zm4 0h-2V7h2v10zm4 0h-2v-4h2v4z\"/>\n",
              "    </g>\n",
              "</svg>\n",
              "  </button>\n",
              "\n",
              "<style>\n",
              "  .colab-df-quickchart {\n",
              "      --bg-color: #E8F0FE;\n",
              "      --fill-color: #1967D2;\n",
              "      --hover-bg-color: #E2EBFA;\n",
              "      --hover-fill-color: #174EA6;\n",
              "      --disabled-fill-color: #AAA;\n",
              "      --disabled-bg-color: #DDD;\n",
              "  }\n",
              "\n",
              "  [theme=dark] .colab-df-quickchart {\n",
              "      --bg-color: #3B4455;\n",
              "      --fill-color: #D2E3FC;\n",
              "      --hover-bg-color: #434B5C;\n",
              "      --hover-fill-color: #FFFFFF;\n",
              "      --disabled-bg-color: #3B4455;\n",
              "      --disabled-fill-color: #666;\n",
              "  }\n",
              "\n",
              "  .colab-df-quickchart {\n",
              "    background-color: var(--bg-color);\n",
              "    border: none;\n",
              "    border-radius: 50%;\n",
              "    cursor: pointer;\n",
              "    display: none;\n",
              "    fill: var(--fill-color);\n",
              "    height: 32px;\n",
              "    padding: 0;\n",
              "    width: 32px;\n",
              "  }\n",
              "\n",
              "  .colab-df-quickchart:hover {\n",
              "    background-color: var(--hover-bg-color);\n",
              "    box-shadow: 0 1px 2px rgba(60, 64, 67, 0.3), 0 1px 3px 1px rgba(60, 64, 67, 0.15);\n",
              "    fill: var(--button-hover-fill-color);\n",
              "  }\n",
              "\n",
              "  .colab-df-quickchart-complete:disabled,\n",
              "  .colab-df-quickchart-complete:disabled:hover {\n",
              "    background-color: var(--disabled-bg-color);\n",
              "    fill: var(--disabled-fill-color);\n",
              "    box-shadow: none;\n",
              "  }\n",
              "\n",
              "  .colab-df-spinner {\n",
              "    border: 2px solid var(--fill-color);\n",
              "    border-color: transparent;\n",
              "    border-bottom-color: var(--fill-color);\n",
              "    animation:\n",
              "      spin 1s steps(1) infinite;\n",
              "  }\n",
              "\n",
              "  @keyframes spin {\n",
              "    0% {\n",
              "      border-color: transparent;\n",
              "      border-bottom-color: var(--fill-color);\n",
              "      border-left-color: var(--fill-color);\n",
              "    }\n",
              "    20% {\n",
              "      border-color: transparent;\n",
              "      border-left-color: var(--fill-color);\n",
              "      border-top-color: var(--fill-color);\n",
              "    }\n",
              "    30% {\n",
              "      border-color: transparent;\n",
              "      border-left-color: var(--fill-color);\n",
              "      border-top-color: var(--fill-color);\n",
              "      border-right-color: var(--fill-color);\n",
              "    }\n",
              "    40% {\n",
              "      border-color: transparent;\n",
              "      border-right-color: var(--fill-color);\n",
              "      border-top-color: var(--fill-color);\n",
              "    }\n",
              "    60% {\n",
              "      border-color: transparent;\n",
              "      border-right-color: var(--fill-color);\n",
              "    }\n",
              "    80% {\n",
              "      border-color: transparent;\n",
              "      border-right-color: var(--fill-color);\n",
              "      border-bottom-color: var(--fill-color);\n",
              "    }\n",
              "    90% {\n",
              "      border-color: transparent;\n",
              "      border-bottom-color: var(--fill-color);\n",
              "    }\n",
              "  }\n",
              "</style>\n",
              "\n",
              "  <script>\n",
              "    async function quickchart(key) {\n",
              "      const quickchartButtonEl =\n",
              "        document.querySelector('#' + key + ' button');\n",
              "      quickchartButtonEl.disabled = true;  // To prevent multiple clicks.\n",
              "      quickchartButtonEl.classList.add('colab-df-spinner');\n",
              "      try {\n",
              "        const charts = await google.colab.kernel.invokeFunction(\n",
              "            'suggestCharts', [key], {});\n",
              "      } catch (error) {\n",
              "        console.error('Error during call to suggestCharts:', error);\n",
              "      }\n",
              "      quickchartButtonEl.classList.remove('colab-df-spinner');\n",
              "      quickchartButtonEl.classList.add('colab-df-quickchart-complete');\n",
              "    }\n",
              "    (() => {\n",
              "      let quickchartButtonEl =\n",
              "        document.querySelector('#df-3d5a6572-0dd1-4bf0-ae08-24887f2b5622 button');\n",
              "      quickchartButtonEl.style.display =\n",
              "        google.colab.kernel.accessAllowed ? 'block' : 'none';\n",
              "    })();\n",
              "  </script>\n",
              "</div>\n",
              "\n",
              "    </div>\n",
              "  </div>\n"
            ],
            "application/vnd.google.colaboratory.intrinsic+json": {
              "type": "dataframe",
              "variable_name": "df",
              "summary": "{\n  \"name\": \"df\",\n  \"rows\": 1000,\n  \"fields\": [\n    {\n      \"column\": \"Name\",\n      \"properties\": {\n        \"dtype\": \"string\",\n        \"num_unique_values\": 1000,\n        \"samples\": [\n          \"Grilled Vegetable Orzo Pasta Salad\",\n          \"Frenched Rack Of Lamb\",\n          \"Yogurt Sheet Pan Pancakes with Mixed Berries\"\n        ],\n        \"semantic_type\": \"\",\n        \"description\": \"\"\n      }\n    },\n    {\n      \"column\": \"Image\",\n      \"properties\": {\n        \"dtype\": \"string\",\n        \"num_unique_values\": 999,\n        \"samples\": [\n          \"https://www.skinnytaste.com/wp-content/uploads/2018/10/POTATO-LEEK-SOUP2.-5-2-260x390.jpg\",\n          \"https://www.skinnytaste.com/wp-content/uploads/2020/07/Gnocchi-with-Grilled-Chicken-and-Roasted-Red-Pepper-Sauce-15-260x390.jpg\",\n          \"https://www.skinnytaste.com/wp-content/uploads/2011/10/Pumpkin-Bread-Recipe-5-260x390.jpg\"\n        ],\n        \"semantic_type\": \"\",\n        \"description\": \"\"\n      }\n    },\n    {\n      \"column\": \"Calories\",\n      \"properties\": {\n        \"dtype\": \"category\",\n        \"num_unique_values\": 436,\n        \"samples\": [\n          \"Cals: 260\",\n          \"Cals: 96\",\n          \"Cals: 475\"\n        ],\n        \"semantic_type\": \"\",\n        \"description\": \"\"\n      }\n    },\n    {\n      \"column\": \"Personal Points\",\n      \"properties\": {\n        \"dtype\": \"category\",\n        \"num_unique_values\": 15,\n        \"samples\": [\n          \"8\",\n          \"10\",\n          \"Null\"\n        ],\n        \"semantic_type\": \"\",\n        \"description\": \"\"\n      }\n    },\n    {\n      \"column\": \"Summary\",\n      \"properties\": {\n        \"dtype\": \"string\",\n        \"num_unique_values\": 1000,\n        \"samples\": [\n          \"Grilled vegetables from the farmers market shine in this vegetarian orzo pasta salad, perfect as a side dish or meatless main.\",\n          \"Tender oven-roasted rack of lamb, seasoned with rosemary, fresh lemon juice, and garlic, is perfect for entertaining and so easy to make!\",\n          \"Yogurt Sheet Pan Pancakes with Mixed Berries are an easy breakfast or brunch for the holiday season or any time of the year. Set out all the toppings and let your family serve themselves.\"\n        ],\n        \"semantic_type\": \"\",\n        \"description\": \"\"\n      }\n    },\n    {\n      \"column\": \"Recipe Key\",\n      \"properties\": {\n        \"dtype\": \"category\",\n        \"num_unique_values\": 430,\n        \"samples\": [\n          \"AF DF GF KF LC Q V W\",\n          \"KF V\",\n          \"FM GF HP LC\"\n        ],\n        \"semantic_type\": \"\",\n        \"description\": \"\"\n      }\n    }\n  ]\n}"
            }
          },
          "metadata": {},
          "execution_count": 9
        }
      ],
      "source": [
        "df.head(10)"
      ]
    },
    {
      "cell_type": "code",
      "execution_count": 10,
      "metadata": {
        "colab": {
          "base_uri": "https://localhost:8080/"
        },
        "id": "V2ObIqyzN4jr",
        "outputId": "02ccd2df-5dfa-4000-95c5-1febf43a589e"
      },
      "outputs": [
        {
          "output_type": "stream",
          "name": "stdout",
          "text": [
            "Recipe Key Type Counts:\n",
            "Null: 52\n",
            "AF: 107\n",
            "FM: 143\n",
            "HF: 245\n",
            "KF: 515\n",
            "MP: 152\n",
            "Q: 460\n",
            "DF: 442\n",
            "GF: 700\n",
            "V: 406\n",
            "HP: 213\n",
            "LC: 274\n",
            "W: 121\n",
            "SC: 29\n",
            "PC: 34\n"
          ]
        }
      ],
      "source": [
        "# Printing the count of each recipe key type\n",
        "from collections import defaultdict\n",
        "\n",
        "recipe_key_count = defaultdict(int)\n",
        "\n",
        "for recipe in recipe_box:\n",
        "    recipe_key = recipe['Recipe Key'].split()\n",
        "    for key in recipe_key:\n",
        "        recipe_key_count[key] += 1\n",
        "\n",
        "print(\"Recipe Key Type Counts:\")\n",
        "for key, count in recipe_key_count.items():\n",
        "    print(f\"{key}: {count}\")"
      ]
    },
    {
      "cell_type": "code",
      "execution_count": 11,
      "metadata": {
        "colab": {
          "base_uri": "https://localhost:8080/",
          "height": 206
        },
        "id": "6-__xnOQw4ev",
        "outputId": "819de35d-2646-4d60-9d15-181574a992ec"
      },
      "outputs": [
        {
          "output_type": "execute_result",
          "data": {
            "text/plain": [
              "                      Name                                              Image  \\\n",
              "1       Breakfast Burritos  https://www.skinnytaste.com/wp-content/uploads...   \n",
              "2    Crustless Pumpkin Pie  https://www.skinnytaste.com/wp-content/uploads...   \n",
              "3         Red Curry Salmon  https://www.skinnytaste.com/wp-content/uploads...   \n",
              "4             Apple Butter  https://www.skinnytaste.com/wp-content/uploads...   \n",
              "5  Roasted Delicata Squash  https://www.skinnytaste.com/wp-content/uploads...   \n",
              "\n",
              "   Calories  Personal Points  \\\n",
              "1     261.0              5.0   \n",
              "2     124.5              2.0   \n",
              "3     349.0              6.0   \n",
              "4      34.0              1.0   \n",
              "5     177.0              4.0   \n",
              "\n",
              "                                             Summary        Recipe Key  \n",
              "1  These freezer breakfast burritos are stuffed w...  AF FM HF KF MP Q  \n",
              "2  Skip the crust and make this easy gluten-free,...        DF GF HF V  \n",
              "3  Thai-inspired Red Curry Salmon is simmered in ...          DF GF HP  \n",
              "4  This easy apple butter recipe simmers on the s...        DF GF KF V  \n",
              "5  Roasted Delicata Squash with toasted almonds, ...           DF GF V  "
            ],
            "text/html": [
              "\n",
              "  <div id=\"df-38a870a8-d956-4f13-8d3c-bbcd7c89041f\" class=\"colab-df-container\">\n",
              "    <div>\n",
              "<style scoped>\n",
              "    .dataframe tbody tr th:only-of-type {\n",
              "        vertical-align: middle;\n",
              "    }\n",
              "\n",
              "    .dataframe tbody tr th {\n",
              "        vertical-align: top;\n",
              "    }\n",
              "\n",
              "    .dataframe thead th {\n",
              "        text-align: right;\n",
              "    }\n",
              "</style>\n",
              "<table border=\"1\" class=\"dataframe\">\n",
              "  <thead>\n",
              "    <tr style=\"text-align: right;\">\n",
              "      <th></th>\n",
              "      <th>Name</th>\n",
              "      <th>Image</th>\n",
              "      <th>Calories</th>\n",
              "      <th>Personal Points</th>\n",
              "      <th>Summary</th>\n",
              "      <th>Recipe Key</th>\n",
              "    </tr>\n",
              "  </thead>\n",
              "  <tbody>\n",
              "    <tr>\n",
              "      <th>1</th>\n",
              "      <td>Breakfast Burritos</td>\n",
              "      <td>https://www.skinnytaste.com/wp-content/uploads...</td>\n",
              "      <td>261.0</td>\n",
              "      <td>5.0</td>\n",
              "      <td>These freezer breakfast burritos are stuffed w...</td>\n",
              "      <td>AF FM HF KF MP Q</td>\n",
              "    </tr>\n",
              "    <tr>\n",
              "      <th>2</th>\n",
              "      <td>Crustless Pumpkin Pie</td>\n",
              "      <td>https://www.skinnytaste.com/wp-content/uploads...</td>\n",
              "      <td>124.5</td>\n",
              "      <td>2.0</td>\n",
              "      <td>Skip the crust and make this easy gluten-free,...</td>\n",
              "      <td>DF GF HF V</td>\n",
              "    </tr>\n",
              "    <tr>\n",
              "      <th>3</th>\n",
              "      <td>Red Curry Salmon</td>\n",
              "      <td>https://www.skinnytaste.com/wp-content/uploads...</td>\n",
              "      <td>349.0</td>\n",
              "      <td>6.0</td>\n",
              "      <td>Thai-inspired Red Curry Salmon is simmered in ...</td>\n",
              "      <td>DF GF HP</td>\n",
              "    </tr>\n",
              "    <tr>\n",
              "      <th>4</th>\n",
              "      <td>Apple Butter</td>\n",
              "      <td>https://www.skinnytaste.com/wp-content/uploads...</td>\n",
              "      <td>34.0</td>\n",
              "      <td>1.0</td>\n",
              "      <td>This easy apple butter recipe simmers on the s...</td>\n",
              "      <td>DF GF KF V</td>\n",
              "    </tr>\n",
              "    <tr>\n",
              "      <th>5</th>\n",
              "      <td>Roasted Delicata Squash</td>\n",
              "      <td>https://www.skinnytaste.com/wp-content/uploads...</td>\n",
              "      <td>177.0</td>\n",
              "      <td>4.0</td>\n",
              "      <td>Roasted Delicata Squash with toasted almonds, ...</td>\n",
              "      <td>DF GF V</td>\n",
              "    </tr>\n",
              "  </tbody>\n",
              "</table>\n",
              "</div>\n",
              "    <div class=\"colab-df-buttons\">\n",
              "\n",
              "  <div class=\"colab-df-container\">\n",
              "    <button class=\"colab-df-convert\" onclick=\"convertToInteractive('df-38a870a8-d956-4f13-8d3c-bbcd7c89041f')\"\n",
              "            title=\"Convert this dataframe to an interactive table.\"\n",
              "            style=\"display:none;\">\n",
              "\n",
              "  <svg xmlns=\"http://www.w3.org/2000/svg\" height=\"24px\" viewBox=\"0 -960 960 960\">\n",
              "    <path d=\"M120-120v-720h720v720H120Zm60-500h600v-160H180v160Zm220 220h160v-160H400v160Zm0 220h160v-160H400v160ZM180-400h160v-160H180v160Zm440 0h160v-160H620v160ZM180-180h160v-160H180v160Zm440 0h160v-160H620v160Z\"/>\n",
              "  </svg>\n",
              "    </button>\n",
              "\n",
              "  <style>\n",
              "    .colab-df-container {\n",
              "      display:flex;\n",
              "      gap: 12px;\n",
              "    }\n",
              "\n",
              "    .colab-df-convert {\n",
              "      background-color: #E8F0FE;\n",
              "      border: none;\n",
              "      border-radius: 50%;\n",
              "      cursor: pointer;\n",
              "      display: none;\n",
              "      fill: #1967D2;\n",
              "      height: 32px;\n",
              "      padding: 0 0 0 0;\n",
              "      width: 32px;\n",
              "    }\n",
              "\n",
              "    .colab-df-convert:hover {\n",
              "      background-color: #E2EBFA;\n",
              "      box-shadow: 0px 1px 2px rgba(60, 64, 67, 0.3), 0px 1px 3px 1px rgba(60, 64, 67, 0.15);\n",
              "      fill: #174EA6;\n",
              "    }\n",
              "\n",
              "    .colab-df-buttons div {\n",
              "      margin-bottom: 4px;\n",
              "    }\n",
              "\n",
              "    [theme=dark] .colab-df-convert {\n",
              "      background-color: #3B4455;\n",
              "      fill: #D2E3FC;\n",
              "    }\n",
              "\n",
              "    [theme=dark] .colab-df-convert:hover {\n",
              "      background-color: #434B5C;\n",
              "      box-shadow: 0px 1px 3px 1px rgba(0, 0, 0, 0.15);\n",
              "      filter: drop-shadow(0px 1px 2px rgba(0, 0, 0, 0.3));\n",
              "      fill: #FFFFFF;\n",
              "    }\n",
              "  </style>\n",
              "\n",
              "    <script>\n",
              "      const buttonEl =\n",
              "        document.querySelector('#df-38a870a8-d956-4f13-8d3c-bbcd7c89041f button.colab-df-convert');\n",
              "      buttonEl.style.display =\n",
              "        google.colab.kernel.accessAllowed ? 'block' : 'none';\n",
              "\n",
              "      async function convertToInteractive(key) {\n",
              "        const element = document.querySelector('#df-38a870a8-d956-4f13-8d3c-bbcd7c89041f');\n",
              "        const dataTable =\n",
              "          await google.colab.kernel.invokeFunction('convertToInteractive',\n",
              "                                                    [key], {});\n",
              "        if (!dataTable) return;\n",
              "\n",
              "        const docLinkHtml = 'Like what you see? Visit the ' +\n",
              "          '<a target=\"_blank\" href=https://colab.research.google.com/notebooks/data_table.ipynb>data table notebook</a>'\n",
              "          + ' to learn more about interactive tables.';\n",
              "        element.innerHTML = '';\n",
              "        dataTable['output_type'] = 'display_data';\n",
              "        await google.colab.output.renderOutput(dataTable, element);\n",
              "        const docLink = document.createElement('div');\n",
              "        docLink.innerHTML = docLinkHtml;\n",
              "        element.appendChild(docLink);\n",
              "      }\n",
              "    </script>\n",
              "  </div>\n",
              "\n",
              "\n",
              "<div id=\"df-14447a3c-a643-493d-9b6e-cb5dc5486693\">\n",
              "  <button class=\"colab-df-quickchart\" onclick=\"quickchart('df-14447a3c-a643-493d-9b6e-cb5dc5486693')\"\n",
              "            title=\"Suggest charts\"\n",
              "            style=\"display:none;\">\n",
              "\n",
              "<svg xmlns=\"http://www.w3.org/2000/svg\" height=\"24px\"viewBox=\"0 0 24 24\"\n",
              "     width=\"24px\">\n",
              "    <g>\n",
              "        <path d=\"M19 3H5c-1.1 0-2 .9-2 2v14c0 1.1.9 2 2 2h14c1.1 0 2-.9 2-2V5c0-1.1-.9-2-2-2zM9 17H7v-7h2v7zm4 0h-2V7h2v10zm4 0h-2v-4h2v4z\"/>\n",
              "    </g>\n",
              "</svg>\n",
              "  </button>\n",
              "\n",
              "<style>\n",
              "  .colab-df-quickchart {\n",
              "      --bg-color: #E8F0FE;\n",
              "      --fill-color: #1967D2;\n",
              "      --hover-bg-color: #E2EBFA;\n",
              "      --hover-fill-color: #174EA6;\n",
              "      --disabled-fill-color: #AAA;\n",
              "      --disabled-bg-color: #DDD;\n",
              "  }\n",
              "\n",
              "  [theme=dark] .colab-df-quickchart {\n",
              "      --bg-color: #3B4455;\n",
              "      --fill-color: #D2E3FC;\n",
              "      --hover-bg-color: #434B5C;\n",
              "      --hover-fill-color: #FFFFFF;\n",
              "      --disabled-bg-color: #3B4455;\n",
              "      --disabled-fill-color: #666;\n",
              "  }\n",
              "\n",
              "  .colab-df-quickchart {\n",
              "    background-color: var(--bg-color);\n",
              "    border: none;\n",
              "    border-radius: 50%;\n",
              "    cursor: pointer;\n",
              "    display: none;\n",
              "    fill: var(--fill-color);\n",
              "    height: 32px;\n",
              "    padding: 0;\n",
              "    width: 32px;\n",
              "  }\n",
              "\n",
              "  .colab-df-quickchart:hover {\n",
              "    background-color: var(--hover-bg-color);\n",
              "    box-shadow: 0 1px 2px rgba(60, 64, 67, 0.3), 0 1px 3px 1px rgba(60, 64, 67, 0.15);\n",
              "    fill: var(--button-hover-fill-color);\n",
              "  }\n",
              "\n",
              "  .colab-df-quickchart-complete:disabled,\n",
              "  .colab-df-quickchart-complete:disabled:hover {\n",
              "    background-color: var(--disabled-bg-color);\n",
              "    fill: var(--disabled-fill-color);\n",
              "    box-shadow: none;\n",
              "  }\n",
              "\n",
              "  .colab-df-spinner {\n",
              "    border: 2px solid var(--fill-color);\n",
              "    border-color: transparent;\n",
              "    border-bottom-color: var(--fill-color);\n",
              "    animation:\n",
              "      spin 1s steps(1) infinite;\n",
              "  }\n",
              "\n",
              "  @keyframes spin {\n",
              "    0% {\n",
              "      border-color: transparent;\n",
              "      border-bottom-color: var(--fill-color);\n",
              "      border-left-color: var(--fill-color);\n",
              "    }\n",
              "    20% {\n",
              "      border-color: transparent;\n",
              "      border-left-color: var(--fill-color);\n",
              "      border-top-color: var(--fill-color);\n",
              "    }\n",
              "    30% {\n",
              "      border-color: transparent;\n",
              "      border-left-color: var(--fill-color);\n",
              "      border-top-color: var(--fill-color);\n",
              "      border-right-color: var(--fill-color);\n",
              "    }\n",
              "    40% {\n",
              "      border-color: transparent;\n",
              "      border-right-color: var(--fill-color);\n",
              "      border-top-color: var(--fill-color);\n",
              "    }\n",
              "    60% {\n",
              "      border-color: transparent;\n",
              "      border-right-color: var(--fill-color);\n",
              "    }\n",
              "    80% {\n",
              "      border-color: transparent;\n",
              "      border-right-color: var(--fill-color);\n",
              "      border-bottom-color: var(--fill-color);\n",
              "    }\n",
              "    90% {\n",
              "      border-color: transparent;\n",
              "      border-bottom-color: var(--fill-color);\n",
              "    }\n",
              "  }\n",
              "</style>\n",
              "\n",
              "  <script>\n",
              "    async function quickchart(key) {\n",
              "      const quickchartButtonEl =\n",
              "        document.querySelector('#' + key + ' button');\n",
              "      quickchartButtonEl.disabled = true;  // To prevent multiple clicks.\n",
              "      quickchartButtonEl.classList.add('colab-df-spinner');\n",
              "      try {\n",
              "        const charts = await google.colab.kernel.invokeFunction(\n",
              "            'suggestCharts', [key], {});\n",
              "      } catch (error) {\n",
              "        console.error('Error during call to suggestCharts:', error);\n",
              "      }\n",
              "      quickchartButtonEl.classList.remove('colab-df-spinner');\n",
              "      quickchartButtonEl.classList.add('colab-df-quickchart-complete');\n",
              "    }\n",
              "    (() => {\n",
              "      let quickchartButtonEl =\n",
              "        document.querySelector('#df-14447a3c-a643-493d-9b6e-cb5dc5486693 button');\n",
              "      quickchartButtonEl.style.display =\n",
              "        google.colab.kernel.accessAllowed ? 'block' : 'none';\n",
              "    })();\n",
              "  </script>\n",
              "</div>\n",
              "\n",
              "    </div>\n",
              "  </div>\n"
            ],
            "application/vnd.google.colaboratory.intrinsic+json": {
              "type": "dataframe",
              "variable_name": "df",
              "summary": "{\n  \"name\": \"df\",\n  \"rows\": 938,\n  \"fields\": [\n    {\n      \"column\": \"Name\",\n      \"properties\": {\n        \"dtype\": \"string\",\n        \"num_unique_values\": 938,\n        \"samples\": [\n          \"Italian Shrimp Salad\",\n          \"Teriyaki Shrimp Quinoa Bowls with Mango-Cucumber Salsa\",\n          \"Eggplant and Tomato Sauce\"\n        ],\n        \"semantic_type\": \"\",\n        \"description\": \"\"\n      }\n    },\n    {\n      \"column\": \"Image\",\n      \"properties\": {\n        \"dtype\": \"string\",\n        \"num_unique_values\": 938,\n        \"samples\": [\n          \"https://www.skinnytaste.com/wp-content/uploads/2024/04/Italian-Shrimp-Salad-6-260x390.jpg\",\n          \"https://www.skinnytaste.com/wp-content/uploads/2023/01/Teriyaki-Shrimp-Quinoa-Bowls-with-Mango-Cucumber-Salsa-5-260x390.jpg\",\n          \"https://www.skinnytaste.com/wp-content/uploads/2009/10/Eggplant-and-Tomato-Sauce-8-260x390.jpg\"\n        ],\n        \"semantic_type\": \"\",\n        \"description\": \"\"\n      }\n    },\n    {\n      \"column\": \"Calories\",\n      \"properties\": {\n        \"dtype\": \"number\",\n        \"std\": 116.44571744985934,\n        \"min\": 8.0,\n        \"max\": 608.0,\n        \"num_unique_values\": 434,\n        \"samples\": [\n          232.0,\n          26.0,\n          159.0\n        ],\n        \"semantic_type\": \"\",\n        \"description\": \"\"\n      }\n    },\n    {\n      \"column\": \"Personal Points\",\n      \"properties\": {\n        \"dtype\": \"number\",\n        \"std\": 2.7977165966726525,\n        \"min\": 0.0,\n        \"max\": 13.0,\n        \"num_unique_values\": 14,\n        \"samples\": [\n          3.0,\n          0.0,\n          5.0\n        ],\n        \"semantic_type\": \"\",\n        \"description\": \"\"\n      }\n    },\n    {\n      \"column\": \"Summary\",\n      \"properties\": {\n        \"dtype\": \"string\",\n        \"num_unique_values\": 938,\n        \"samples\": [\n          \"This garlicky Italian Shrimp Salad recipe is loaded with shrimp, celery, and a mix of bold Italian olives, all brightened with a lemony dressing.\",\n          \"These fresh and delicious Teriyaki Shrimp Quinoa Bowls seasoned with honey, ginger, and soy sauce are topped with avocado and a Mango-Cucumber Salsa.\",\n          \"This simple Eggplant and Tomato Sauce is delicious, made with diced eggplant stewed in tomatoes and garlic. I love it served over pasta but it\\u2019s also great over zucchini noodles, polenta or as a side dish on it\\u2019s own.\"\n        ],\n        \"semantic_type\": \"\",\n        \"description\": \"\"\n      }\n    },\n    {\n      \"column\": \"Recipe Key\",\n      \"properties\": {\n        \"dtype\": \"category\",\n        \"num_unique_values\": 426,\n        \"samples\": [\n          \"AF DF GF KF LC Q V W\",\n          \"GF HF SC\",\n          \"DF GF HP LC MP W\"\n        ],\n        \"semantic_type\": \"\",\n        \"description\": \"\"\n      }\n    }\n  ]\n}"
            }
          },
          "metadata": {},
          "execution_count": 11
        }
      ],
      "source": [
        "import pandas as pd\n",
        "\n",
        "df = pd.DataFrame(recipe_box)\n",
        "\n",
        "df['Calories'] = df['Calories'].str.replace('Cals: ', '', regex=False)\n",
        "df['Calories'] = pd.to_numeric(df['Calories'], errors='coerce')\n",
        "\n",
        "df['Personal Points'] = pd.to_numeric(df['Personal Points'], errors='coerce')\n",
        "\n",
        "df = df.dropna(subset=['Calories', 'Personal Points'])\n",
        "\n",
        "df.head()\n"
      ]
    },
    {
      "cell_type": "code",
      "execution_count": 12,
      "metadata": {
        "colab": {
          "base_uri": "https://localhost:8080/"
        },
        "id": "uH8AWDKnT8d7",
        "outputId": "a09f8aa6-ad69-4930-d764-d3198def6ba4"
      },
      "outputs": [
        {
          "output_type": "stream",
          "name": "stdout",
          "text": [
            "Requirement already satisfied: openpyxl in /usr/local/lib/python3.10/dist-packages (3.1.5)\n",
            "Requirement already satisfied: et-xmlfile in /usr/local/lib/python3.10/dist-packages (from openpyxl) (1.1.0)\n"
          ]
        }
      ],
      "source": [
        "!pip install openpyxl"
      ]
    },
    {
      "cell_type": "code",
      "source": [
        "df.to_excel('recipes.xlsx', index=False)"
      ],
      "metadata": {
        "id": "Fzds76xc7Uv9"
      },
      "execution_count": 13,
      "outputs": []
    },
    {
      "cell_type": "code",
      "execution_count": 15,
      "metadata": {
        "colab": {
          "base_uri": "https://localhost:8080/"
        },
        "id": "NcQaO6SXunJ9",
        "outputId": "013d706a-5931-4ad9-f051-68f1bf34e8a1"
      },
      "outputs": [
        {
          "output_type": "stream",
          "name": "stdout",
          "text": [
            "Requirement already satisfied: matplotlib in /usr/local/lib/python3.10/dist-packages (3.7.1)\n",
            "Requirement already satisfied: seaborn in /usr/local/lib/python3.10/dist-packages (0.13.1)\n",
            "Requirement already satisfied: contourpy>=1.0.1 in /usr/local/lib/python3.10/dist-packages (from matplotlib) (1.3.0)\n",
            "Requirement already satisfied: cycler>=0.10 in /usr/local/lib/python3.10/dist-packages (from matplotlib) (0.12.1)\n",
            "Requirement already satisfied: fonttools>=4.22.0 in /usr/local/lib/python3.10/dist-packages (from matplotlib) (4.53.1)\n",
            "Requirement already satisfied: kiwisolver>=1.0.1 in /usr/local/lib/python3.10/dist-packages (from matplotlib) (1.4.7)\n",
            "Requirement already satisfied: numpy>=1.20 in /usr/local/lib/python3.10/dist-packages (from matplotlib) (1.26.4)\n",
            "Requirement already satisfied: packaging>=20.0 in /usr/local/lib/python3.10/dist-packages (from matplotlib) (24.1)\n",
            "Requirement already satisfied: pillow>=6.2.0 in /usr/local/lib/python3.10/dist-packages (from matplotlib) (10.4.0)\n",
            "Requirement already satisfied: pyparsing>=2.3.1 in /usr/local/lib/python3.10/dist-packages (from matplotlib) (3.1.4)\n",
            "Requirement already satisfied: python-dateutil>=2.7 in /usr/local/lib/python3.10/dist-packages (from matplotlib) (2.8.2)\n",
            "Requirement already satisfied: pandas>=1.2 in /usr/local/lib/python3.10/dist-packages (from seaborn) (2.1.4)\n",
            "Requirement already satisfied: pytz>=2020.1 in /usr/local/lib/python3.10/dist-packages (from pandas>=1.2->seaborn) (2024.2)\n",
            "Requirement already satisfied: tzdata>=2022.1 in /usr/local/lib/python3.10/dist-packages (from pandas>=1.2->seaborn) (2024.1)\n",
            "Requirement already satisfied: six>=1.5 in /usr/local/lib/python3.10/dist-packages (from python-dateutil>=2.7->matplotlib) (1.16.0)\n"
          ]
        }
      ],
      "source": [
        "!pip install matplotlib seaborn"
      ]
    },
    {
      "cell_type": "code",
      "execution_count": 16,
      "metadata": {
        "id": "mB0FdZ9hn6A7"
      },
      "outputs": [],
      "source": [
        "import numpy as np\n",
        "import pandas as pd\n",
        "import matplotlib.pyplot as plt\n",
        "import seaborn as sea\n",
        "\n",
        "from sklearn.linear_model import LinearRegression\n",
        "from sklearn.model_selection import train_test_split\n",
        "from sklearn.metrics import r2_score, mean_absolute_error, mean_squared_error\n",
        "from sklearn.preprocessing import LabelEncoder\n",
        "import warnings\n",
        "warnings.filterwarnings('ignore')\n",
        "\n",
        "sea.set_context(\"talk\")\n",
        "sea.set_style(\"whitegrid\")"
      ]
    },
    {
      "cell_type": "code",
      "execution_count": 29,
      "metadata": {
        "colab": {
          "base_uri": "https://localhost:8080/",
          "height": 750
        },
        "id": "pCXLrOZ8uupX",
        "outputId": "dadd6a9b-aa33-46c1-8593-71f35e97515b"
      },
      "outputs": [
        {
          "output_type": "display_data",
          "data": {
            "text/plain": [
              "<Figure size 1200x800 with 1 Axes>"
            ],
            "image/png": "[encoded data removed]"
          },
          "metadata": {}
        }
      ],
      "source": [
        "plt.figure(figsize=(12, 8))\n",
        "sea.histplot(df['Calories'].dropna(), bins=15, kde=True, color= '#FFC0CB', edgecolor='#AA336A')\n",
        "plt.title('Calorie Distribution')\n",
        "plt.xlabel('Calories')\n",
        "plt.ylabel('Frequency')\n",
        "plt.show()"
      ]
    },
    {
      "cell_type": "code",
      "execution_count": 24,
      "metadata": {
        "colab": {
          "base_uri": "https://localhost:8080/",
          "height": 617
        },
        "id": "IF_z5LJWuxdc",
        "outputId": "d851c1e3-a552-45ac-d9b7-68c7e9d38e39"
      },
      "outputs": [
        {
          "output_type": "display_data",
          "data": {
            "text/plain": [
              "<Figure size 1000x600 with 1 Axes>"
            ],
            "image/png": "[encoded data removed]"
          },
          "metadata": {}
        }
      ],
      "source": [
        "recipe_key_df = pd.DataFrame(list(recipe_key_count.items()), columns=['Recipe Key', 'Frequency'])\n",
        "\n",
        "plt.figure(figsize=(10, 6))\n",
        "\n",
        "sea.barplot(x='Recipe Key', y='Frequency', data=recipe_key_df, palette='pastel')\n",
        "\n",
        "plt.title('Frequency of Each Recipe Key')\n",
        "plt.xlabel('Recipe Key')\n",
        "plt.ylabel('Frequency')\n",
        "\n",
        "plt.xticks(rotation=90)\n",
        "\n",
        "plt.show()"
      ]
    },
    {
      "cell_type": "code",
      "execution_count": 31,
      "metadata": {
        "colab": {
          "base_uri": "https://localhost:8080/",
          "height": 596
        },
        "id": "Btmt2DiWu0wd",
        "outputId": "a6ba62b7-da52-400f-f131-3487d4c7b9e7"
      },
      "outputs": [
        {
          "output_type": "display_data",
          "data": {
            "text/plain": [
              "<Figure size 1000x600 with 1 Axes>"
            ],
            "image/png": "[encoded data removed]"
          },
          "metadata": {}
        }
      ],
      "source": [
        "plt.figure(figsize=(10, 6))\n",
        "sea.histplot(df['Personal Points'].dropna(), bins=15, kde=True, color= '#a3c585', edgecolor='#4B6043')\n",
        "plt.title('Personal Points Distribution')\n",
        "plt.xlabel('Personal Points')\n",
        "plt.ylabel('Frequency')\n",
        "plt.show()"
      ]
    },
    {
      "cell_type": "code",
      "execution_count": 27,
      "metadata": {
        "colab": {
          "base_uri": "https://localhost:8080/",
          "height": 1000
        },
        "id": "LJJuW1e9u44B",
        "outputId": "ea81209a-5093-43ed-c721-330c90353e7b"
      },
      "outputs": [
        {
          "output_type": "stream",
          "name": "stdout",
          "text": [
            "Enter minimum calories:99\n",
            "Enter maximum calories:180\n",
            "Enter minimum personal points:1\n",
            "Enter maximum personal points:7\n",
            "\n",
            "\n",
            "Top 10 recipes for you:\n",
            "Name: String Beans with Garlic and Oil\n"
          ]
        },
        {
          "output_type": "display_data",
          "data": {
            "text/html": [
              "<img src=\"https://www.skinnytaste.com/wp-content/uploads/2009/05/String-Beans-with-Garlic-and-Oil-5-260x390.jpg\"/>"
            ],
            "text/plain": [
              "<IPython.core.display.Image object>"
            ]
          },
          "metadata": {}
        },
        {
          "output_type": "stream",
          "name": "stdout",
          "text": [
            "Calories: 99.0\n",
            "Summary: This garlic green bean recipe is a quick, healthy side dish for all you garlic lovers.\n",
            "\n",
            "\n",
            "Name: Mashed Sweet Potatoes Brulee\n"
          ]
        },
        {
          "output_type": "display_data",
          "data": {
            "text/html": [
              "<img src=\"https://www.skinnytaste.com/wp-content/uploads/2011/10/Mashed-Sweet-Potato-Brulee_-8-260x390.jpg\"/>"
            ],
            "text/plain": [
              "<IPython.core.display.Image object>"
            ]
          },
          "metadata": {}
        },
        {
          "output_type": "stream",
          "name": "stdout",
          "text": [
            "Calories: 100.0\n",
            "Summary: Mashed Sweet Potatoes Brulee are seasoned with with a hint of cinnamon and nutmeg topped with a caramelized brown sugar crust.\n",
            "\n",
            "\n",
            "Name: Caprese Salad\n"
          ]
        },
        {
          "output_type": "display_data",
          "data": {
            "text/html": [
              "<img src=\"https://www.skinnytaste.com/wp-content/uploads/2019/09/Insalata-Caprese-2-260x390.jpg\"/>"
            ],
            "text/plain": [
              "<IPython.core.display.Image object>"
            ]
          },
          "metadata": {}
        },
        {
          "output_type": "stream",
          "name": "stdout",
          "text": [
            "Calories: 100.0\n",
            "Summary: Caprese Salad or Insalata Caprese is a simple summer salad with fresh mozzarella, thick slices of juicy tomatoes, basil and a splash of balsamic vinegar. Serve it as an appetizer, side dish, or just make it a meal!\n",
            "\n",
            "\n",
            "Name: Grilled Pineapple\n"
          ]
        },
        {
          "output_type": "display_data",
          "data": {
            "text/html": [
              "<img src=\"https://www.skinnytaste.com/wp-content/uploads/2011/06/Grilled-Pineapple-4-260x390.jpg\"/>"
            ],
            "text/plain": [
              "<IPython.core.display.Image object>"
            ]
          },
          "metadata": {}
        },
        {
          "output_type": "stream",
          "name": "stdout",
          "text": [
            "Calories: 102.0\n",
            "Summary: This quick and easy Grilled Pineapple with honey, lime juice, and cinnamon is the perfect dessert for summer dinners or backyard parties!\n",
            "\n",
            "\n",
            "Name: Asian Chicken Lettuce Wraps\n"
          ]
        },
        {
          "output_type": "display_data",
          "data": {
            "text/html": [
              "<img src=\"https://www.skinnytaste.com/wp-content/uploads/2012/01/Asian-Chicken-Lettuce-Wraps-5-260x390.jpg\"/>"
            ],
            "text/plain": [
              "<IPython.core.display.Image object>"
            ]
          },
          "metadata": {}
        },
        {
          "output_type": "stream",
          "name": "stdout",
          "text": [
            "Calories: 102.0\n",
            "Summary: Quick and easy Asian Lettuce Wraps are delicious! Made with ground chicken, shiitake mushrooms, water chestnuts with a spicy hoisin sauce.\n",
            "\n",
            "\n",
            "Name: Roasted Green Beans with Caramelized Onions\n"
          ]
        },
        {
          "output_type": "display_data",
          "data": {
            "text/html": [
              "<img src=\"https://www.skinnytaste.com/wp-content/uploads/2021/11/Green-Beans-with-Caramelized-Onions-6-260x390.jpg\"/>"
            ],
            "text/plain": [
              "<IPython.core.display.Image object>"
            ]
          },
          "metadata": {}
        },
        {
          "output_type": "stream",
          "name": "stdout",
          "text": [
            "Calories: 102.0\n",
            "Summary: This simple side dish of Roasted Green Beans with Caramelized Onions pairs wonderfully with Thanksgiving turkey or roasted chicken.\n",
            "\n",
            "\n",
            "Name: Skillet Mexican Zucchini\n"
          ]
        },
        {
          "output_type": "display_data",
          "data": {
            "text/html": [
              "<img src=\"https://www.skinnytaste.com/wp-content/uploads/2013/08/Mexican-Skillet-Zucchini-260x390.jpg\"/>"
            ],
            "text/plain": [
              "<IPython.core.display.Image object>"
            ]
          },
          "metadata": {}
        },
        {
          "output_type": "stream",
          "name": "stdout",
          "text": [
            "Calories: 102.0\n",
            "Summary: Skillet Mexican Zucchini is incredibly delicious with a little bit of a kick from the jalapeño topped with melted queso blanco. So easy and quick, a must try!\n",
            "\n",
            "\n",
            "Name: Pumpkin Bread Recipe\n"
          ]
        },
        {
          "output_type": "display_data",
          "data": {
            "text/html": [
              "<img src=\"https://www.skinnytaste.com/wp-content/uploads/2011/10/Pumpkin-Bread-Recipe-5-260x390.jpg\"/>"
            ],
            "text/plain": [
              "<IPython.core.display.Image object>"
            ]
          },
          "metadata": {}
        },
        {
          "output_type": "stream",
          "name": "stdout",
          "text": [
            "Calories: 103.0\n",
            "Summary: Warm your kitchen with the aroma of pumpkin spice by baking this healthy pumpkin bread, ideal for cool, cozy fall days.\n",
            "\n",
            "\n",
            "Name: Strawberry Cheesecake Dip\n"
          ]
        },
        {
          "output_type": "display_data",
          "data": {
            "text/html": [
              "<img src=\"https://www.skinnytaste.com/wp-content/uploads/2021/09/Strawberry-Cheesecake-Dip-10-260x390.jpg\"/>"
            ],
            "text/plain": [
              "<IPython.core.display.Image object>"
            ]
          },
          "metadata": {}
        },
        {
          "output_type": "stream",
          "name": "stdout",
          "text": [
            "Calories: 103.0\n",
            "Summary: Strawberry Cheesecake Dip tastes just like cheesecake in dip form – perfect for serving with fresh fruit or graham crackers.\n",
            "\n",
            "\n",
            "Name: Chocolate Pistachio Biscotti\n"
          ]
        },
        {
          "output_type": "display_data",
          "data": {
            "text/html": [
              "<img src=\"https://www.skinnytaste.com/wp-content/uploads/2011/02/chocolate-pistachio-biscotti-260x378.jpg\"/>"
            ],
            "text/plain": [
              "<IPython.core.display.Image object>"
            ]
          },
          "metadata": {}
        },
        {
          "output_type": "stream",
          "name": "stdout",
          "text": [
            "Calories: 103.0\n",
            "Summary: Chocolate Pistachio Biscotti are perfect for holiday baking or giving away to friends!\n",
            "\n",
            "\n"
          ]
        }
      ],
      "source": [
        "def get_recipes(calorie_min, calorie_max, points_min, points_max):\n",
        "    filtered_df = df[(df['Calories'] >= calorie_min) & (df['Calories'] <= calorie_max) &\n",
        "                     (df['Personal Points'] >= points_min) & (df['Personal Points'] <= points_max)]\n",
        "    sorted_df = filtered_df.sort_values(by='Calories').head(10)\n",
        "    return sorted_df\n",
        "\n",
        "calorie_min = int(input(\"Enter minimum calories:\"))\n",
        "calorie_max = int(input(\"Enter maximum calories:\"))\n",
        "points_min = int(input(\"Enter minimum personal points:\"))\n",
        "points_max = int(input(\"Enter maximum personal points:\"))\n",
        "\n",
        "recipes = get_recipes(calorie_min, calorie_max, points_min, points_max)\n",
        "print(\"\\n\")\n",
        "print(\"Top 10 recipes for you:\")\n",
        "for index, row in recipes.iterrows():\n",
        "    print(f\"Name: {row['Name']}\")\n",
        "    display(Image(url=row['Image']))\n",
        "    print(f\"Calories: {row['Calories']}\")\n",
        "    print(f\"Summary: {row['Summary']}\")\n",
        "    print(\"\\n\")\n"
      ]
    }
  ],
  "metadata": {
    "colab": {
      "provenance": []
    },
    "kernelspec": {
      "display_name": "Python 3",
      "name": "python3"
    },
    "language_info": {
      "name": "python"
    }
  },
  "nbformat": 4,
  "nbformat_minor": 0
}
